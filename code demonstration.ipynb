{
 "cells": [
  {
   "cell_type": "code",
   "execution_count": 1,
   "id": "08bd1343",
   "metadata": {},
   "outputs": [],
   "source": [
    "import sqlite3\n",
    "from tabulate import tabulate\n",
    "def output(query):\n",
    "    '''returns output of an sql query in tabular form'''\n",
    "    corr = cur.execute(query)\n",
    "    output = corr.fetchall()\n",
    "    header = [x[0] for x in corr.description]\n",
    "    print(tabulate(output,headers = header))\n",
    "con = sqlite3.connect(\"tutorial.db\")\n",
    "cur = con.cursor()\n",
    "cur.execute(\"PRAGMA foreign_keys = 1\");\n",
    "cur.execute(\"PRAGMA table_info(students)\");\n",
    "cur.execute(\"PRAGMA table_info(courses)\");\n",
    "cur.execute(\"DROP TABLE IF EXISTS COURSES\");\n",
    "cur.execute(\"DROP TABLE IF EXISTS STUDENTS\");\n",
    "cur.execute('''CREATE TABLE STUDENTS(\n",
    "student_id varchar(50) primary key not null, \n",
    "student_first_name varchar(50), \n",
    "student_last_name varchar(50), \n",
    "student_phone varchar(50) unique)''');\n",
    "data = [('MSDS01','Jane','Doe','11111111'),\\\n",
    "       ('MSDS02','John','Doe','11111112'),\n",
    "       ('MSDS03','Jack','Doe','11111113'),\n",
    "       ('MSDS04','Joe','Doe','11111114')]\n",
    "cur.executemany(\"INSERT INTO students VALUES(?, ?, ?, ?)\", data);\n",
    "cur.execute('''CREATE TABLE COURSES(\n",
    "course_number varchar(50) not null,\n",
    "course_name varchar(50),\n",
    "student_id varchar(50) not null,\n",
    "FOREIGN KEY(student_id) REFERENCES students(student_id),\n",
    "primary key (course_number, student_id) )''');\n",
    "data_courses = [('DSF111','Prob and Stats','MSDS01'),\n",
    "               ('DSF211','Computation for analytics','MSDS01'),\n",
    "               ('DSF311','Exploratory Data Analysis','MSDS01'),\n",
    "               ('DSF111','Prob and Stats','MSDS02'),\n",
    "               ('DSF211','Computation for analytics','MSDS02'),\n",
    "               ('DSF311','Exploratory Data Analysis','MSDS03')]\n",
    "cur.executemany(\"INSERT INTO COURSES VALUES(?,?,?)\",data_courses);"
   ]
  },
  {
   "cell_type": "markdown",
   "id": "aedd59fc",
   "metadata": {},
   "source": [
    "# <b>Tables & Keys</b>\n",
    "1. Tables are data that is stored in a row/column manner as shown below.</br>\n",
    "2. Keys are attributes that uniquely identify records or a combination of records in tables. </br>\n",
    "3. The table “STUDENT” consists of student information. </br>\n",
    "4. while the table “STUD_COURSE” consists of the courses that a student is enrolled in.</br>"
   ]
  },
  {
   "cell_type": "markdown",
   "id": "5dd99c84",
   "metadata": {},
   "source": [
    "Here are the outputs of both the tables"
   ]
  },
  {
   "cell_type": "code",
   "execution_count": 2,
   "id": "dea82810",
   "metadata": {},
   "outputs": [
    {
     "name": "stdout",
     "output_type": "stream",
     "text": [
      "student_id    student_first_name    student_last_name      student_phone\n",
      "------------  --------------------  -------------------  ---------------\n",
      "MSDS01        Jane                  Doe                         11111111\n",
      "MSDS02        John                  Doe                         11111112\n",
      "MSDS03        Jack                  Doe                         11111113\n",
      "MSDS04        Joe                   Doe                         11111114\n"
     ]
    }
   ],
   "source": [
    "output('select * from students')"
   ]
  },
  {
   "cell_type": "code",
   "execution_count": 3,
   "id": "34f8f33c",
   "metadata": {},
   "outputs": [
    {
     "name": "stdout",
     "output_type": "stream",
     "text": [
      "course_number    course_name                student_id\n",
      "---------------  -------------------------  ------------\n",
      "DSF111           Prob and Stats             MSDS01\n",
      "DSF211           Computation for analytics  MSDS01\n",
      "DSF311           Exploratory Data Analysis  MSDS01\n",
      "DSF111           Prob and Stats             MSDS02\n",
      "DSF211           Computation for analytics  MSDS02\n",
      "DSF311           Exploratory Data Analysis  MSDS03\n"
     ]
    }
   ],
   "source": [
    "output('select * from courses')"
   ]
  },
  {
   "cell_type": "markdown",
   "id": "dd3d92ef",
   "metadata": {},
   "source": [
    "## <br><b>Unique Key</b></br>\n",
    "1. In RDMS, a unique key is a key that enforces uniqueness but is not the primary key. \n",
    "2. A unique key can take NULL values"
   ]
  },
  {
   "cell_type": "markdown",
   "id": "7caed783",
   "metadata": {},
   "source": [
    "In the students table, every student should ideally have a unique student phone number. \n",
    "However, student phone number is not a primary key."
   ]
  },
  {
   "cell_type": "code",
   "execution_count": 4,
   "id": "7ea30ef4",
   "metadata": {},
   "outputs": [],
   "source": [
    "data_unique_key = ('MSDS06','James','Doe','11111115')\n",
    "cur.execute(\"INSERT INTO students VALUES(?, ?, ?, ?)\", data_unique_key);"
   ]
  },
  {
   "cell_type": "code",
   "execution_count": 5,
   "id": "e7bd4546",
   "metadata": {},
   "outputs": [
    {
     "name": "stdout",
     "output_type": "stream",
     "text": [
      "student_id    student_first_name    student_last_name      student_phone\n",
      "------------  --------------------  -------------------  ---------------\n",
      "MSDS01        Jane                  Doe                         11111111\n",
      "MSDS02        John                  Doe                         11111112\n",
      "MSDS03        Jack                  Doe                         11111113\n",
      "MSDS04        Joe                   Doe                         11111114\n",
      "MSDS06        James                 Doe                         11111115\n"
     ]
    }
   ],
   "source": [
    "output('select * from students')"
   ]
  },
  {
   "cell_type": "code",
   "execution_count": 6,
   "id": "93dd7535",
   "metadata": {},
   "outputs": [
    {
     "ename": "IntegrityError",
     "evalue": "UNIQUE constraint failed: STUDENTS.student_id",
     "output_type": "error",
     "traceback": [
      "\u001b[0;31m---------------------------------------------------------------------------\u001b[0m",
      "\u001b[0;31mIntegrityError\u001b[0m                            Traceback (most recent call last)",
      "Input \u001b[0;32mIn [6]\u001b[0m, in \u001b[0;36m<cell line: 2>\u001b[0;34m()\u001b[0m\n\u001b[1;32m      1\u001b[0m data_unique_key_one \u001b[38;5;241m=\u001b[39m (\u001b[38;5;124m'\u001b[39m\u001b[38;5;124mMSDS06\u001b[39m\u001b[38;5;124m'\u001b[39m,\u001b[38;5;124m'\u001b[39m\u001b[38;5;124mJames\u001b[39m\u001b[38;5;124m'\u001b[39m,\u001b[38;5;124m'\u001b[39m\u001b[38;5;124mDoe\u001b[39m\u001b[38;5;124m'\u001b[39m,\u001b[38;5;28;01mNone\u001b[39;00m)\n\u001b[0;32m----> 2\u001b[0m \u001b[43mcur\u001b[49m\u001b[38;5;241;43m.\u001b[39;49m\u001b[43mexecute\u001b[49m\u001b[43m(\u001b[49m\u001b[38;5;124;43m\"\u001b[39;49m\u001b[38;5;124;43mINSERT INTO students VALUES(?, ?, ?, ?)\u001b[39;49m\u001b[38;5;124;43m\"\u001b[39;49m\u001b[43m,\u001b[49m\u001b[43m \u001b[49m\u001b[43mdata_unique_key_one\u001b[49m\u001b[43m)\u001b[49m;\n\u001b[1;32m      3\u001b[0m output(\u001b[38;5;124m'\u001b[39m\u001b[38;5;124mselect * from students\u001b[39m\u001b[38;5;124m'\u001b[39m)\n",
      "\u001b[0;31mIntegrityError\u001b[0m: UNIQUE constraint failed: STUDENTS.student_id"
     ]
    }
   ],
   "source": [
    "data_unique_key_one = ('MSDS06','James','Doe',None)\n",
    "cur.execute(\"INSERT INTO students VALUES(?, ?, ?, ?)\", data_unique_key_one);\n",
    "output('select * from students')"
   ]
  },
  {
   "cell_type": "markdown",
   "id": "2195c280",
   "metadata": {},
   "source": [
    "Unique keys can take null values."
   ]
  },
  {
   "cell_type": "code",
   "execution_count": 7,
   "id": "5cca0e69",
   "metadata": {},
   "outputs": [],
   "source": [
    "data_unique_key_one = ('MSDS07','Jessica','Doe',None)\n",
    "cur.execute(\"INSERT INTO students VALUES(?, ?, ?, ?)\", data_unique_key_one);"
   ]
  },
  {
   "cell_type": "code",
   "execution_count": 8,
   "id": "8536059a",
   "metadata": {},
   "outputs": [
    {
     "name": "stdout",
     "output_type": "stream",
     "text": [
      "student_id    student_first_name    student_last_name      student_phone\n",
      "------------  --------------------  -------------------  ---------------\n",
      "MSDS01        Jane                  Doe                         11111111\n",
      "MSDS02        John                  Doe                         11111112\n",
      "MSDS03        Jack                  Doe                         11111113\n",
      "MSDS04        Joe                   Doe                         11111114\n",
      "MSDS06        James                 Doe                         11111115\n",
      "MSDS07        Jessica               Doe\n"
     ]
    }
   ],
   "source": [
    "output('select * from students')"
   ]
  },
  {
   "cell_type": "markdown",
   "id": "ab06bc69",
   "metadata": {},
   "source": [
    "## <br><b>Primary Key</b></br>\n",
    "1. A primary key is a key that can uniquely identify every record in the table.</br>\n",
    "2. In the table “STUDENT”, the primary key is the STUD_NO column. </br>\n",
    "3. A student can have only 1 student number(even if two students’ names match, their student numbers are still different). </br>\n",
    "4. A primary key has to be unique and not null</br>"
   ]
  },
  {
   "cell_type": "markdown",
   "id": "b0134feb",
   "metadata": {},
   "source": [
    "For. e.g. a new student with a new student number can be inserted into a table."
   ]
  },
  {
   "cell_type": "code",
   "execution_count": 9,
   "id": "3e97af46",
   "metadata": {},
   "outputs": [
    {
     "name": "stdout",
     "output_type": "stream",
     "text": [
      "student_id    student_first_name    student_last_name      student_phone\n",
      "------------  --------------------  -------------------  ---------------\n",
      "MSDS01        Jane                  Doe                         11111111\n",
      "MSDS02        John                  Doe                         11111112\n",
      "MSDS03        Jack                  Doe                         11111113\n",
      "MSDS04        Joe                   Doe                         11111114\n",
      "MSDS06        James                 Doe                         11111115\n",
      "MSDS07        Jessica               Doe\n",
      "MSDS05        Jill                  Doe                         11111119\n"
     ]
    }
   ],
   "source": [
    "data_newstudent = ('MSDS05','Jill','Doe','11111119')\n",
    "cur.execute(\"INSERT INTO students VALUES(?, ?, ?, ?)\", data_newstudent);\n",
    "output('select * from students');"
   ]
  },
  {
   "cell_type": "markdown",
   "id": "0c75040f",
   "metadata": {},
   "source": [
    "Now let us try to insert the details of the same student again. This will throw an error"
   ]
  },
  {
   "cell_type": "code",
   "execution_count": 10,
   "id": "0705bd5d",
   "metadata": {},
   "outputs": [
    {
     "ename": "IntegrityError",
     "evalue": "UNIQUE constraint failed: STUDENTS.student_id",
     "output_type": "error",
     "traceback": [
      "\u001b[0;31m---------------------------------------------------------------------------\u001b[0m",
      "\u001b[0;31mIntegrityError\u001b[0m                            Traceback (most recent call last)",
      "Input \u001b[0;32mIn [10]\u001b[0m, in \u001b[0;36m<cell line: 2>\u001b[0;34m()\u001b[0m\n\u001b[1;32m      1\u001b[0m data_newstudent_one \u001b[38;5;241m=\u001b[39m (\u001b[38;5;124m'\u001b[39m\u001b[38;5;124mMSDS05\u001b[39m\u001b[38;5;124m'\u001b[39m,\u001b[38;5;124m'\u001b[39m\u001b[38;5;124mJill\u001b[39m\u001b[38;5;124m'\u001b[39m,\u001b[38;5;124m'\u001b[39m\u001b[38;5;124mDoe\u001b[39m\u001b[38;5;124m'\u001b[39m,\u001b[38;5;124m'\u001b[39m\u001b[38;5;124m11111116\u001b[39m\u001b[38;5;124m'\u001b[39m)\n\u001b[0;32m----> 2\u001b[0m \u001b[43mcur\u001b[49m\u001b[38;5;241;43m.\u001b[39;49m\u001b[43mexecute\u001b[49m\u001b[43m(\u001b[49m\u001b[38;5;124;43m\"\u001b[39;49m\u001b[38;5;124;43mINSERT INTO students VALUES(?, ?, ?, ?)\u001b[39;49m\u001b[38;5;124;43m\"\u001b[39;49m\u001b[43m,\u001b[49m\u001b[43m \u001b[49m\u001b[43mdata_newstudent_one\u001b[49m\u001b[43m)\u001b[49m\n",
      "\u001b[0;31mIntegrityError\u001b[0m: UNIQUE constraint failed: STUDENTS.student_id"
     ]
    }
   ],
   "source": [
    "data_newstudent_one = ('MSDS05','Jill','Doe','11111116')\n",
    "cur.execute(\"INSERT INTO students VALUES(?, ?, ?, ?)\", data_newstudent_one);"
   ]
  },
  {
   "cell_type": "markdown",
   "id": "7f3c5546",
   "metadata": {},
   "source": [
    "Also, a primary key does not accept a NULL value"
   ]
  },
  {
   "cell_type": "code",
   "execution_count": 11,
   "id": "7b25e9c0",
   "metadata": {},
   "outputs": [
    {
     "ename": "IntegrityError",
     "evalue": "NOT NULL constraint failed: STUDENTS.student_id",
     "output_type": "error",
     "traceback": [
      "\u001b[0;31m---------------------------------------------------------------------------\u001b[0m",
      "\u001b[0;31mIntegrityError\u001b[0m                            Traceback (most recent call last)",
      "Input \u001b[0;32mIn [11]\u001b[0m, in \u001b[0;36m<cell line: 2>\u001b[0;34m()\u001b[0m\n\u001b[1;32m      1\u001b[0m data_nullstudent \u001b[38;5;241m=\u001b[39m (\u001b[38;5;28;01mNone\u001b[39;00m,\u001b[38;5;124m'\u001b[39m\u001b[38;5;124mJessica\u001b[39m\u001b[38;5;124m'\u001b[39m,\u001b[38;5;124m'\u001b[39m\u001b[38;5;124mDoe\u001b[39m\u001b[38;5;124m'\u001b[39m,\u001b[38;5;124m'\u001b[39m\u001b[38;5;124m11111116\u001b[39m\u001b[38;5;124m'\u001b[39m)\n\u001b[0;32m----> 2\u001b[0m \u001b[43mcur\u001b[49m\u001b[38;5;241;43m.\u001b[39;49m\u001b[43mexecute\u001b[49m\u001b[43m(\u001b[49m\u001b[38;5;124;43m\"\u001b[39;49m\u001b[38;5;124;43mINSERT INTO students VALUES(?, ?, ?, ?)\u001b[39;49m\u001b[38;5;124;43m\"\u001b[39;49m\u001b[43m,\u001b[49m\u001b[43m \u001b[49m\u001b[43mdata_nullstudent\u001b[49m\u001b[43m)\u001b[49m\n",
      "\u001b[0;31mIntegrityError\u001b[0m: NOT NULL constraint failed: STUDENTS.student_id"
     ]
    }
   ],
   "source": [
    "data_nullstudent = (None,'Jessica','Doe','11111116')\n",
    "cur.execute(\"INSERT INTO students VALUES(?, ?, ?, ?)\", data_nullstudent);"
   ]
  },
  {
   "cell_type": "markdown",
   "id": "487c4836",
   "metadata": {},
   "source": [
    "## <br><b>Foreign Key</b></br>\n",
    "A foreign key is a key that refers to the primary key in another table. \n",
    "STUD_NO in “COURSES” is a foreign key. \n",
    "Students enrolling in courses must have a student ID registered. \n",
    "Hence the foreign key in “STUDENT_COURSE” is pointing to the primary key in “STUDENT”. \n",
    "1. This ensures that there is no student number who cannot be identified in the “COURSES” table.\n",
    "2. The foreign key links both tables and enforces referential integrity. \n",
    "3. This referential integrity ensures that for every foreign key, there is a corresponding table with the same attribute as a primary key. \n",
    "4. If a column is assigned a foreign key, each row of that column must contain a value that exists in the ‘foreign’ column it references."
   ]
  },
  {
   "cell_type": "markdown",
   "id": "81a1a219",
   "metadata": {},
   "source": [
    "Now let us try to insert a new value in courses as belows:-"
   ]
  },
  {
   "cell_type": "code",
   "execution_count": null,
   "id": "732f06e6",
   "metadata": {},
   "outputs": [],
   "source": [
    "data_foreign_example_one = ('DSF111','Prob and Stats','MSDS03')\n",
    "cur.execute(\"INSERT INTO courses VALUES(?, ?, ?)\", data_foreign_example_one);\n",
    "output('select * from courses')"
   ]
  },
  {
   "cell_type": "markdown",
   "id": "f7958f4a",
   "metadata": {},
   "source": [
    "A student who has not been registered cannot register for courses. This will create an error"
   ]
  },
  {
   "cell_type": "code",
   "execution_count": null,
   "id": "61b44102",
   "metadata": {},
   "outputs": [],
   "source": [
    "data_foreign_example_one = ('DSF111','Prob and Stats','MSDS10')\n",
    "cur.execute(\"INSERT INTO courses VALUES(?, ?, ?)\", data_foreign_example_one)"
   ]
  },
  {
   "cell_type": "markdown",
   "id": "2f3a49e6",
   "metadata": {},
   "source": [
    "Since a foreign key is refering a primary key, it cannot be null as well."
   ]
  },
  {
   "cell_type": "code",
   "execution_count": null,
   "id": "c7c2f466",
   "metadata": {},
   "outputs": [],
   "source": [
    "data_foreign_example_two = ('DSF111','Prob and Stats',None)\n",
    "cur.execute(\"INSERT INTO courses VALUES(?, ?, ?)\", data_foreign_example_two)"
   ]
  },
  {
   "cell_type": "markdown",
   "id": "3fb8b46b",
   "metadata": {},
   "source": [
    "## <br><b>Composite Key</b></br>\n",
    "1. A composite key is made by the combination of two or more columns in a table that can be used to uniquely identify each row in the table.\n",
    "2. When the columns are combined uniqueness of a row is guaranteed, but when it is taken individually it does not guarantee uniqueness.\n",
    "3. It can also be understood as a primary key made by the combination of two or more attributes to uniquely identify every row in a table."
   ]
  },
  {
   "cell_type": "markdown",
   "id": "555df4c5",
   "metadata": {},
   "source": [
    "In the courses table, we know that a student cannot enrol in the same course twice. However, a course can be taken\n",
    "by multiple students and a student can take multiple courses."
   ]
  },
  {
   "cell_type": "code",
   "execution_count": null,
   "id": "8b08c8e3",
   "metadata": {},
   "outputs": [],
   "source": [
    "output('select * from courses')"
   ]
  },
  {
   "cell_type": "markdown",
   "id": "5dd6be26",
   "metadata": {},
   "source": [
    "Now let us say that Jack(Student ID:MSDS03) wants to enrol in \"Computation in analytics\".\n",
    "It is possible because Jack has not enrolled in it before. "
   ]
  },
  {
   "cell_type": "code",
   "execution_count": null,
   "id": "6c93fd5a",
   "metadata": {},
   "outputs": [],
   "source": [
    "data_composite_example_one = ('DSF211','Computation for analytics','MSDS03')\n",
    "cur.execute(\"INSERT INTO courses VALUES(?, ?, ?)\", data_composite_example_one);\n",
    "output('select * from courses')"
   ]
  },
  {
   "cell_type": "markdown",
   "id": "ca3eff2e",
   "metadata": {},
   "source": [
    "He cannot get enrolled in Computation for analytics again as he is already enrolled. "
   ]
  },
  {
   "cell_type": "code",
   "execution_count": null,
   "id": "7298bbcc",
   "metadata": {},
   "outputs": [],
   "source": [
    "data_composite_example_two = ('DSF211','Computation for analytics','MSDS03')\n",
    "cur.execute(\"INSERT INTO courses VALUES(?, ?, ?)\", data_composite_example_two);"
   ]
  },
  {
   "cell_type": "markdown",
   "id": "2844d7ce",
   "metadata": {},
   "source": [
    "Hence, the composite key of the table is course_number and student_ID. \n",
    "Both these columns can uniquely identify every row in the courses table."
   ]
  }
 ],
 "metadata": {
  "kernelspec": {
   "display_name": "Python 3 (ipykernel)",
   "language": "python",
   "name": "python3"
  },
  "language_info": {
   "codemirror_mode": {
    "name": "ipython",
    "version": 3
   },
   "file_extension": ".py",
   "mimetype": "text/x-python",
   "name": "python",
   "nbconvert_exporter": "python",
   "pygments_lexer": "ipython3",
   "version": "3.9.12"
  }
 },
 "nbformat": 4,
 "nbformat_minor": 5
}
